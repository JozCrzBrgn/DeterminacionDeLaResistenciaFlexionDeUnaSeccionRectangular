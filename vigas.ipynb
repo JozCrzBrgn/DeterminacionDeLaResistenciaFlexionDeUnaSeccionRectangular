{
 "cells": [
  {
   "cell_type": "code",
   "execution_count": 24,
   "metadata": {},
   "outputs": [
    {
     "name": "stdout",
     "output_type": "stream",
     "text": [
      "0.825\n",
      "0.8099999999999999\n"
     ]
    }
   ],
   "source": [
    "def beta1_psi(fc_prime):\n",
    "    \"\"\"Calcula β1 en unidades de lb/plg².\"\"\"\n",
    "    if fc_prime <= 4000:\n",
    "        return 0.85\n",
    "    else:\n",
    "        beta1 = 0.85 - (fc_prime - 4000) * 0.00005\n",
    "        return max(beta1, 0.65)  # β1 no puede ser menor a 0.65\n",
    "\n",
    "def beta1_mpa(fc_prime):\n",
    "    \"\"\"Calcula β1 en unidades de MPa.\"\"\"\n",
    "    if fc_prime <= 30:\n",
    "        return 0.85\n",
    "    else:\n",
    "        beta1 = 0.85 - 0.008 * (fc_prime - 30)\n",
    "        return max(beta1, 0.65)  # β1 no puede ser menor a 0.65\n",
    "\n",
    "# Para lb/plg²\n",
    "fc_prime_psi = 4500  # resistencia a compresión en lb/plg²\n",
    "print(beta1_psi(fc_prime_psi))  # Resultado: valor de β1\n",
    "\n",
    "# Para MPa\n",
    "fc_prime_mpa = 35  # resistencia a compresión en MPa\n",
    "print(beta1_mpa(fc_prime_mpa))  # Resultado: valor de β1"
   ]
  },
  {
   "cell_type": "code",
   "execution_count": 21,
   "metadata": {},
   "outputs": [
    {
     "data": {
      "text/plain": [
       "5e-05"
      ]
     },
     "execution_count": 21,
     "metadata": {},
     "output_type": "execute_result"
    }
   ],
   "source": [
    "0.05/1000"
   ]
  },
  {
   "cell_type": "code",
   "execution_count": 22,
   "metadata": {},
   "outputs": [
    {
     "data": {
      "text/plain": [
       "5e-05"
      ]
     },
     "execution_count": 22,
     "metadata": {},
     "output_type": "execute_result"
    }
   ],
   "source": [
    "0.00005"
   ]
  },
  {
   "cell_type": "code",
   "execution_count": null,
   "metadata": {},
   "outputs": [],
   "source": []
  }
 ],
 "metadata": {
  "kernelspec": {
   "display_name": "venv",
   "language": "python",
   "name": "python3"
  },
  "language_info": {
   "codemirror_mode": {
    "name": "ipython",
    "version": 3
   },
   "file_extension": ".py",
   "mimetype": "text/x-python",
   "name": "python",
   "nbconvert_exporter": "python",
   "pygments_lexer": "ipython3",
   "version": "3.9.0"
  }
 },
 "nbformat": 4,
 "nbformat_minor": 2
}
