{
 "cells": [
  {
   "cell_type": "markdown",
   "metadata": {},
   "source": [
    "# Diagrama:"
   ]
  },
  {
   "attachments": {
    "1.png": {
     "image/png": "[encoded data removed]"
    }
   },
   "cell_type": "markdown",
   "metadata": {},
   "source": [
    "![1.png](attachment:1.png)"
   ]
  },
  {
   "cell_type": "markdown",
   "metadata": {},
   "source": [
    "# Código:"
   ]
  },
  {
   "cell_type": "code",
   "execution_count": 3,
   "metadata": {},
   "outputs": [],
   "source": [
    "class MomentoVigaSimple(object):\n",
    "    def __init__(self, base, peralte, AreaAcero, ResistConcreto, ResistAcero):\n",
    "        self.b = base # cm\n",
    "        self.d = peralte # cm\n",
    "        self.As = AreaAcero # cm2\n",
    "        self.fc = ResistConcreto # kg/cm2\n",
    "        self.fy = ResistAcero # kg/cm2\n",
    "        self.eu = 0.003 # Adimencional\n",
    "        self.Es = 2*10**6 # kg/cm2\n",
    "        self.Bu = 0 # Adimencional\n",
    "        \n",
    "    def Beta_1(self):\n",
    "        aux = 1.05-(self.fc/1400)\n",
    "        if (0.65<= aux) and (aux<=0.85):\n",
    "            return aux\n",
    "        elif (aux < 0.65):\n",
    "            return 0.65\n",
    "        elif (aux > 0.85):\n",
    "            return 0.85 \n",
    "    \n",
    "    def Const_c(self):\n",
    "        Bu = self.Beta_u()\n",
    "        return Bu*self.d\n",
    "    \n",
    "    def Const_a(self,c):\n",
    "        B1 = self.Beta_1()\n",
    "        return B1*c\n",
    "    \n",
    "    def Compresion(self,Bu):\n",
    "        B1 = self.Beta_1()\n",
    "        return 0.85*self.fc*B1*Bu*self.d*self.b # kg\n",
    "    \n",
    "    def Tension(self,Bu):\n",
    "        es = (1-Bu)*self.eu/Bu\n",
    "        ey = self.fy/self.Es\n",
    "        if es > ey:\n",
    "            fs = self.fy\n",
    "        else:\n",
    "            fs = es*self.Es\n",
    "        return self.As*fs\n",
    "    \n",
    "    def Beta_u(self):\n",
    "        xi = 0.0001\n",
    "        xf = 1\n",
    "        cont = 0\n",
    "        fx = lambda Bu: self.Compresion(Bu)-self.Tension(Bu)\n",
    "        # Método de la bisección\n",
    "        while (cont <= 1000):\n",
    "            xr = (xi+xf)/2\n",
    "            ea = abs(xf-xi)*100/xi\n",
    "            if fx(xi)*fx(xr)<0:\n",
    "                xf = xr\n",
    "            elif fx(xi)*fx(xr)>0:\n",
    "                xi = xr\n",
    "            elif (fx(xi)*fx(xr)==0 or ea<=0.0001):\n",
    "                break\n",
    "            cont+=cont\n",
    "        self.Bu = xr\n",
    "        return xr\n",
    "    \n",
    "    def Palanca(self):\n",
    "        c = self.Const_c() \n",
    "        a = self.Const_a(c) \n",
    "        return self.d - a/2\n",
    "    \n",
    "    def Momento(self,fi = 1):\n",
    "        z = self.Palanca() \n",
    "        T = self.Tension(self.Bu) \n",
    "        return round(T*z*fi/100000,2) \n",
    "    "
   ]
  },
  {
   "cell_type": "markdown",
   "metadata": {},
   "source": [
    "# Ejemplo:"
   ]
  },
  {
   "cell_type": "markdown",
   "metadata": {},
   "source": [
    "## Determinar la resistencia a flexión de la siguiente sección rectangular:"
   ]
  },
  {
   "attachments": {
    "3.png": {
     "image/png": "[encoded data removed]"
    }
   },
   "cell_type": "markdown",
   "metadata": {},
   "source": [
    "![3.png](attachment:3.png)"
   ]
  },
  {
   "cell_type": "markdown",
   "metadata": {},
   "source": [
    "### Datos:"
   ]
  },
  {
   "cell_type": "code",
   "execution_count": 42,
   "metadata": {},
   "outputs": [],
   "source": [
    "base = 25 #cm\n",
    "peralte = 55 #cm\n",
    "AreaAcero = 20.28 #cm2\n",
    "ResistConcreto = 250 #kg/cm2\n",
    "ResistAcero = 4200 #kg/cm2"
   ]
  },
  {
   "cell_type": "markdown",
   "metadata": {},
   "source": [
    "### Solución:"
   ]
  },
  {
   "cell_type": "code",
   "execution_count": 43,
   "metadata": {},
   "outputs": [],
   "source": [
    "MVS = MomentoVigaSimple(base, peralte, AreaAcero, ResistConcreto, ResistAcero)"
   ]
  },
  {
   "cell_type": "markdown",
   "metadata": {},
   "source": [
    "### Resistencia a flexión:"
   ]
  },
  {
   "cell_type": "code",
   "execution_count": 44,
   "metadata": {},
   "outputs": [
    {
     "name": "stdout",
     "output_type": "stream",
     "text": [
      "La resistencia a flexion es:  40.02\n"
     ]
    }
   ],
   "source": [
    "print('La resistencia a flexion es: ',MVS.Momento())"
   ]
  },
  {
   "cell_type": "markdown",
   "metadata": {},
   "source": [
    "### Momento Nominal:"
   ]
  },
  {
   "cell_type": "code",
   "execution_count": 45,
   "metadata": {},
   "outputs": [
    {
     "name": "stdout",
     "output_type": "stream",
     "text": [
      "El Momento Nominal es:  36.02\n"
     ]
    }
   ],
   "source": [
    "fi = 0.9 \n",
    "print('El Momento Nominal es: ',MVS.Momento(fi))"
   ]
  },
  {
   "cell_type": "markdown",
   "metadata": {},
   "source": [
    "### Valor de Beta_u:"
   ]
  },
  {
   "cell_type": "code",
   "execution_count": 46,
   "metadata": {},
   "outputs": [
    {
     "name": "stdout",
     "output_type": "stream",
     "text": [
      "El valor de Beta_u es:  0.342954639823844\n"
     ]
    }
   ],
   "source": [
    "Bu = MVS.Beta_u()\n",
    "print('El valor de Beta_u es: ',Bu)"
   ]
  },
  {
   "cell_type": "markdown",
   "metadata": {},
   "source": [
    "### Fuerza de Compresión:"
   ]
  },
  {
   "cell_type": "code",
   "execution_count": 47,
   "metadata": {},
   "outputs": [
    {
     "name": "stdout",
     "output_type": "stream",
     "text": [
      "La Fuerza de Compresión es:  85176.0\n"
     ]
    }
   ],
   "source": [
    "C = MVS.Compresion(Bu)\n",
    "print('La Fuerza de Compresión es: ',C)"
   ]
  },
  {
   "cell_type": "markdown",
   "metadata": {},
   "source": [
    "### Fuerza de Tensión:"
   ]
  },
  {
   "cell_type": "code",
   "execution_count": 48,
   "metadata": {},
   "outputs": [
    {
     "name": "stdout",
     "output_type": "stream",
     "text": [
      "La Fuerza de Tensión es:  85176.0\n"
     ]
    }
   ],
   "source": [
    "T = MVS.Tension(Bu)\n",
    "print('La Fuerza de Tensión es: ',T)"
   ]
  },
  {
   "attachments": {
    "2.png": {
     "image/png": "[encoded data removed]"
    }
   },
   "cell_type": "markdown",
   "metadata": {},
   "source": [
    "### Vemos que se cumple la relación:\n",
    "![2.png](attachment:2.png)"
   ]
  }
 ],
 "metadata": {
  "kernelspec": {
   "display_name": "Python 3",
   "language": "python",
   "name": "python3"
  },
  "language_info": {
   "codemirror_mode": {
    "name": "ipython",
    "version": 3
   },
   "file_extension": ".py",
   "mimetype": "text/x-python",
   "name": "python",
   "nbconvert_exporter": "python",
   "pygments_lexer": "ipython3",
   "version": "3.7.0"
  }
 },
 "nbformat": 4,
 "nbformat_minor": 2
}
